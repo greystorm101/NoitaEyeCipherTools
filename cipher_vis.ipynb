{
 "cells": [
  {
   "cell_type": "markdown",
   "metadata": {},
   "source": [
    "# Analysis of the Noita Eye Cipher"
   ]
  },
  {
   "cell_type": "markdown",
   "metadata": {},
   "source": [
    "### Citations:\n",
    "\n",
    "Cipher codes pulled from here: https://docs.google.com/document/d/1s6gxrc1iLJ78iFfqC2d4qpB9_r_c5U5KwoHVYFFrjy0/edit#"
   ]
  },
  {
   "cell_type": "code",
   "execution_count": 1,
   "metadata": {},
   "outputs": [],
   "source": [
    "# Imports (Running )\n",
    "import collections\n",
    "import os\n",
    "\n",
    "from ciphermessage import CipherMessage"
   ]
  },
  {
   "cell_type": "code",
   "execution_count": 2,
   "metadata": {},
   "outputs": [
    {
     "name": "stdout",
     "output_type": "stream",
     "text": [
      "cipher_data\\east1\n"
     ]
    }
   ],
   "source": [
    "# Define cipher file locations\n",
    "base_dir = os.path.join(\"cipher_data\", \"single_char_strings\")\n",
    "east1 =  os.path.join(base_dir, \"east1\")\n",
    "west1 =  os.path.join(base_dir, \"west1\")\n",
    "east2 =  os.path.join(base_dir, \"east2\")\n",
    "west2 =  os.path.join(base_dir, \"west2\")\n",
    "east3 =  os.path.join(base_dir, \"east3\")\n",
    "west3 =  os.path.join(base_dir, \"west3\")\n",
    "east4 =  os.path.join(base_dir, \"east4\")\n",
    "west4 =  os.path.join(base_dir, \"west4\")\n",
    "east5 =  os.path.join(base_dir, \"east5\")\n",
    "\n",
    "print(east1)\n",
    "\n",
    "east1_message = CipherMessage(file_name = east1)\n",
    "west1_message = CipherMessage(file_name = west1)\n",
    "east2_message = CipherMessage(file_name = east2)\n",
    "west2_message = CipherMessage(file_name = west2)\n",
    "east3_message = CipherMessage(file_name = east3)\n",
    "west3_message = CipherMessage(file_name = west3)\n",
    "east4_message = CipherMessage(file_name = east4)\n",
    "west4_message = CipherMessage(file_name = west4)\n",
    "east5_message = CipherMessage(file_name = east5)"
   ]
  },
  {
   "cell_type": "code",
   "execution_count": 3,
   "metadata": {},
   "outputs": [
    {
     "data": {
      "text/plain": [
       "'20101322330404113023211431303300402400050320412200014222421222201100032013411135310221044000200104040144142033022034241523131313003113212014223133144134144121150140032121141300411101002412410040310015040331432341122101010040120412442442402513331220330103113111211210322314513104242241303041102031232043135'"
      ]
     },
     "execution_count": 3,
     "metadata": {},
     "output_type": "execute_result"
    }
   ],
   "source": []
  },
  {
   "cell_type": "code",
   "execution_count": null,
   "metadata": {},
   "outputs": [],
   "source": []
  }
 ],
 "metadata": {
  "kernelspec": {
   "display_name": "Python 3.10.4 64-bit",
   "language": "python",
   "name": "python3"
  },
  "language_info": {
   "codemirror_mode": {
    "name": "ipython",
    "version": 3
   },
   "file_extension": ".py",
   "mimetype": "text/x-python",
   "name": "python",
   "nbconvert_exporter": "python",
   "pygments_lexer": "ipython3",
   "version": "3.10.4"
  },
  "orig_nbformat": 4,
  "vscode": {
   "interpreter": {
    "hash": "ae8c4b2df4fd0c5a9d50c794da5bbab9a81ed9b52a2416b2d2ea4f4d60bb85ec"
   }
  }
 },
 "nbformat": 4,
 "nbformat_minor": 2
}
